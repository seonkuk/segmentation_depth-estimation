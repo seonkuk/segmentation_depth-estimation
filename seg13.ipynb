{
 "cells": [
  {
   "cell_type": "code",
   "execution_count": 1,
   "metadata": {
    "collapsed": true
   },
   "outputs": [],
   "source": [
    "import numpy as np\n",
    "import tensorflow as tf\n",
    "import math\n",
    "import cv2\n",
    "import matplotlib.pyplot as plt\n",
    "import time\n",
    "import random\n",
    "from utils import *"
   ]
  },
  {
   "cell_type": "code",
   "execution_count": 2,
   "metadata": {},
   "outputs": [],
   "source": [
    "def seg_deconv(in_l,k_s,i_s,edge,edge_n,in_n,out_n,name,is_train):\n",
    "    w_edge_1,b_edge_1=make_wei(name+'_1',1,in_n+edge_n,in_n)\n",
    "    w_edge_2,b_edge_2=make_wei(name+'_2',1,in_n,out_n)\n",
    "    w_edge_3,b_edge_3=make_wei(name+'_3',1,out_n,out_n)\n",
    "\n",
    "    edge_1=tf.image.resize_images(in_l,[math.ceil(i_s),math.ceil(i_s)],method=tf.image.ResizeMethod.BILINEAR)\n",
    "    edge_2=tf.concat([edge,edge_1],3)\n",
    "    edge_3=act_func_c(tf.nn.conv2d(edge_2,w_edge_1, strides=[1,1,1,1], padding= 'SAME')+b_edge_1,is_train)\n",
    "    edge_4=act_func_c(tf.nn.conv2d(edge_3,w_edge_2, strides=[1,1,1,1], padding= 'SAME')+b_edge_2,is_train)\n",
    "\n",
    "\n",
    "    return edge_4\n"
   ]
  },
  {
   "cell_type": "code",
   "execution_count": 3,
   "metadata": {},
   "outputs": [],
   "source": [
    "def dep_deconv(in_l,k_s,i_s,edge,edge_n,in_n,out_n,name,is_train):\n",
    "    w_edge_1,b_edge_1=make_wei(name+'_1',3,in_n+edge_n,in_n)\n",
    "    w_edge_2,b_edge_2=make_wei(name+'_2',3,in_n,out_n)\n",
    "    w_edge_3,b_edge_3=make_wei(name+'_3',3,out_n,out_n)\n",
    "\n",
    "    edge_1=tf.image.resize_images(in_l,[math.ceil(i_s),math.ceil(i_s)],method=tf.image.ResizeMethod.BILINEAR)\n",
    "    edge_2=tf.concat([edge,edge_1],3)\n",
    "    edge_3=act_func_c(tf.nn.conv2d(edge_2,w_edge_1, strides=[1,1,1,1], padding= 'SAME')+b_edge_1,is_train)\n",
    "    edge_4=act_func_c(tf.nn.conv2d(edge_3,w_edge_2, strides=[1,1,1,1], padding= 'SAME')+b_edge_2,is_train)\n",
    "\n",
    "\n",
    "    return edge_4"
   ]
  },
  {
   "cell_type": "code",
   "execution_count": 4,
   "metadata": {},
   "outputs": [],
   "source": [
    "img_size=224\n",
    "train_num=2000\n",
    "test_num=500"
   ]
  },
  {
   "cell_type": "code",
   "execution_count": 5,
   "metadata": {},
   "outputs": [],
   "source": [
    "train_image=[im_resize(cv2.imread('img_data/train_image/img-'+str(i+1).zfill(6)+'.jpg'),img_size) for i in range(train_num)]#5285"
   ]
  },
  {
   "cell_type": "code",
   "execution_count": 6,
   "metadata": {},
   "outputs": [],
   "source": [
    "train_label=[l_oneshot_13(im_resize(cv2.imread('img_data/train_label/img-'+str(i+1).zfill(6)+'.png',0),img_size)) for i in range(train_num)]#5285"
   ]
  },
  {
   "cell_type": "code",
   "execution_count": 7,
   "metadata": {},
   "outputs": [],
   "source": [
    "train_depth=[depth_resize(cv2.imread('img_data/train_depth/img-'+str(i+1).zfill(6)+'.png',0),img_size) for i in range(train_num)]#5285"
   ]
  },
  {
   "cell_type": "code",
   "execution_count": 8,
   "metadata": {},
   "outputs": [],
   "source": [
    "test_image=[im_resize(cv2.imread('img_data/test_image/img-'+str(i+1).zfill(6)+'.jpg'),img_size) for i in range(test_num)]#5050"
   ]
  },
  {
   "cell_type": "code",
   "execution_count": 9,
   "metadata": {},
   "outputs": [],
   "source": [
    "test_label=[l_oneshot_13(im_resize(cv2.imread('img_data/test_label/img-'+str(i+1).zfill(6)+'.png',0),img_size)) for i in range(test_num)]"
   ]
  },
  {
   "cell_type": "code",
   "execution_count": 10,
   "metadata": {},
   "outputs": [],
   "source": [
    "test_depth=[depth_resize(cv2.imread('img_data/test_depth/img-'+str(i+1).zfill(6)+'.png',0),img_size) for i in range(test_num)]#5285"
   ]
  },
  {
   "cell_type": "code",
   "execution_count": 11,
   "metadata": {},
   "outputs": [],
   "source": [
    "h=img_size\n",
    "w=img_size\n",
    "c=14"
   ]
  },
  {
   "cell_type": "code",
   "execution_count": 12,
   "metadata": {},
   "outputs": [
    {
     "name": "stdout",
     "output_type": "stream",
     "text": [
      "224 224 14\n"
     ]
    }
   ],
   "source": [
    "print(h,w,c)"
   ]
  },
  {
   "cell_type": "code",
   "execution_count": 13,
   "metadata": {},
   "outputs": [],
   "source": [
    "version='13'"
   ]
  },
  {
   "cell_type": "code",
   "execution_count": 14,
   "metadata": {},
   "outputs": [],
   "source": [
    "graph_x=train_depth[0][10,:]\n",
    "graph_y=train_depth[0][:,10]"
   ]
  },
  {
   "cell_type": "code",
   "execution_count": 15,
   "metadata": {},
   "outputs": [
    {
     "data": {
      "image/png": "[encoded data removed]",
      "text/plain": [
       "<matplotlib.figure.Figure at 0x2617af455f8>"
      ]
     },
     "metadata": {},
     "output_type": "display_data"
    }
   ],
   "source": [
    "graph_x=train_depth[0][10,:]\n",
    "graph_y=train_depth[0][:,10]\n",
    "plt.plot(graph_x,'r.')\n",
    "plt.plot(graph_y,'b.')\n",
    "plt.show()"
   ]
  },
  {
   "cell_type": "code",
   "execution_count": 16,
   "metadata": {},
   "outputs": [],
   "source": [
    "for i in range(train_num):\n",
    "    plt.imsave('seg_out'+version+'/output_img-'+str(i+1).zfill(6)+'_st.jpg',im_resize(cv2.imread('img_data/train_label/img-'+str(i+1).zfill(6)+'.png',0),img_size))\n",
    "for i in range(test_num):\n",
    "    plt.imsave('seg_out'+version+'/test_image/test_img-'+str(i+1).zfill(6)+'_st.png',im_resize(cv2.imread('img_data/test_label/img-'+str(i+1).zfill(6)+'.png',0),img_size))\n",
    "for i in range(train_num):\n",
    "    plt.imsave('seg_out'+version+'/output_img-'+str(i+1).zfill(6)+'_dt.jpg',d_resize(cv2.imread('img_data/train_depth/img-'+str(i+1).zfill(6)+'.png',0),img_size))\n",
    "for i in range(test_num):\n",
    "    plt.imsave('seg_out'+version+'/test_image/test_img-'+str(i+1).zfill(6)+'_dt.png',d_resize(cv2.imread('img_data/test_depth/img-'+str(i+1).zfill(6)+'.png',0),img_size))"
   ]
  },
  {
   "cell_type": "code",
   "execution_count": 16,
   "metadata": {
    "collapsed": true
   },
   "outputs": [],
   "source": [
    "training_epochs=400\n",
    "tf.reset_default_graph()\n",
    "x=tf.placeholder(tf.float32,[None,h,w,3]) \n",
    "s=tf.placeholder(tf.float32, [None,h,w,c])\n",
    "d=tf.placeholder(tf.float32, [None,h,w,1])\n",
    "keep_prob=tf.placeholder(tf.float32)\n",
    "train_type=tf.placeholder(tf.bool)\n",
    "global_step = tf.placeholder(tf.float32)\n",
    "d_deri=tf.constant([[-1,0,1], [-2,0,2], [-1,0,1]], tf.float32)\n",
    "s_deri=tf.constant([[1,1,1], [1,0,1], [1,1,1]], tf.float32)"
   ]
  },
  {
   "cell_type": "code",
   "execution_count": 17,
   "metadata": {},
   "outputs": [],
   "source": [
    "class Vgg16:\n",
    "    def __init__(self, vgg16_npy_path=None):\n",
    "        if vgg16_npy_path is None:\n",
    "#             path = inspect.getfile(Vgg16)\n",
    "#             path = os.path.abspath(os.path.join(path, os.pardir))\n",
    "#             path = os.path.join(path, \"vgg16.npy\")\n",
    "            path=\"vgg16.npy\"\n",
    "            vgg16_npy_path = path\n",
    "            print(path)\n",
    "        self.VGG_MEAN = [103.939, 116.779, 123.68]\n",
    "        self.data_dict = np.load(vgg16_npy_path, encoding='latin1').item()\n",
    "        self.IS_T=train_type\n",
    "        print(\"npy file loaded\")\n",
    "\n",
    "    def build(self, rgb,size):\n",
    "        rgb_scaled = rgb * 255.0\n",
    "\n",
    "        # Convert RGB to BGR\n",
    "        red, green, blue = tf.split(axis=3, num_or_size_splits=3, value=rgb_scaled)\n",
    "        assert red.get_shape().as_list()[1:] == [size, size, 1]\n",
    "        assert green.get_shape().as_list()[1:] == [size, size, 1]\n",
    "        assert blue.get_shape().as_list()[1:] == [size, size, 1]\n",
    "        bgr = tf.concat(axis=3, values=[\n",
    "            blue - self.VGG_MEAN[0],\n",
    "            green - self.VGG_MEAN[1],\n",
    "            red - self.VGG_MEAN[2],\n",
    "        ])\n",
    "        assert bgr.get_shape().as_list()[1:] == [size, size, 3]\n",
    "\n",
    "        self.conv1_1 = self.conv_layer(bgr, \"conv1_1\")\n",
    "        self.conv1_2 = self.conv_layer(self.conv1_1, \"conv1_2\")\n",
    "        self.pool1 = self.max_pool(self.conv1_2, 'pool1')\n",
    "\n",
    "        self.conv2_1 = self.conv_layer(self.pool1, \"conv2_1\")\n",
    "        self.conv2_2 = self.conv_layer(self.conv2_1, \"conv2_2\")\n",
    "        self.pool2 = self.max_pool(self.conv2_2, 'pool2')\n",
    "\n",
    "        self.conv3_1 = self.conv_layer(self.pool2, \"conv3_1\")\n",
    "        self.conv3_2 = self.conv_layer(self.conv3_1, \"conv3_2\")\n",
    "        self.conv3_3 = self.conv_layer(self.conv3_2, \"conv3_3\")\n",
    "        self.pool3 = self.max_pool(self.conv3_3, 'pool3')\n",
    "\n",
    "        self.conv4_1 = self.conv_layer(self.pool3, \"conv4_1\")\n",
    "        self.conv4_2 = self.conv_layer(self.conv4_1, \"conv4_2\")\n",
    "        self.conv4_3 = self.conv_layer(self.conv4_2, \"conv4_3\")\n",
    "        self.pool4 = self.max_pool(self.conv4_3, 'pool4')\n",
    "\n",
    "        self.conv5_1 = self.conv_layer(self.pool4, \"conv5_1\")\n",
    "        self.conv5_2 = self.conv_layer(self.conv5_1, \"conv5_2\")\n",
    "        self.conv5_3 = self.conv_layer(self.conv5_2, \"conv5_3\")\n",
    "        return self.conv1_2, self.conv2_2, self.conv3_3, self.conv4_3, self.conv5_3\n",
    "\n",
    "    def max_pool(self, bottom, name):\n",
    "        return tf.nn.max_pool(bottom, ksize=[1, 2, 2, 1], strides=[1, 2, 2, 1], padding='SAME', name=name)\n",
    "\n",
    "    def conv_layer(self, bottom, name):\n",
    "        with tf.variable_scope(name):\n",
    "            filt = self.get_conv_filter(name)\n",
    "\n",
    "            conv = tf.nn.conv2d(bottom, filt, [1, 1, 1, 1], padding='SAME')\n",
    "\n",
    "            conv_biases = self.get_bias(name)\n",
    "            bias = tf.nn.bias_add(conv, conv_biases)\n",
    "\n",
    "            relu = act_func_c(bias,self.IS_T)\n",
    "            return relu\n",
    "\n",
    "    def get_conv_filter(self, name):\n",
    "        return tf.constant(self.data_dict[name][0], name=\"filter\")\n",
    "\n",
    "    def get_bias(self, name):\n",
    "        return tf.constant(self.data_dict[name][1], name=\"biases\")"
   ]
  },
  {
   "cell_type": "code",
   "execution_count": 18,
   "metadata": {},
   "outputs": [
    {
     "name": "stdout",
     "output_type": "stream",
     "text": [
      "vgg16.npy\n",
      "npy file loaded\n"
     ]
    }
   ],
   "source": [
    "vgg=Vgg16()\n",
    "l_c_1_2, l_c_2_2, l_c_3_3, l_c_4_3, l_c_5_3=vgg.build(x,img_size)"
   ]
  },
  {
   "cell_type": "code",
   "execution_count": 19,
   "metadata": {},
   "outputs": [
    {
     "name": "stdout",
     "output_type": "stream",
     "text": [
      "Tensor(\"conv1_2/Relu:0\", shape=(?, 224, 224, 64), dtype=float32)\n",
      "Tensor(\"conv2_2/Relu:0\", shape=(?, 112, 112, 128), dtype=float32)\n",
      "Tensor(\"conv3_3/Relu:0\", shape=(?, 56, 56, 256), dtype=float32)\n",
      "Tensor(\"conv4_3/Relu:0\", shape=(?, 28, 28, 512), dtype=float32)\n",
      "Tensor(\"conv5_3/Relu:0\", shape=(?, 14, 14, 512), dtype=float32)\n"
     ]
    }
   ],
   "source": [
    "print(l_c_1_2)\n",
    "print(l_c_2_2)\n",
    "print(l_c_3_3)\n",
    "print(l_c_4_3)\n",
    "print(l_c_5_3)"
   ]
  },
  {
   "cell_type": "code",
   "execution_count": 20,
   "metadata": {},
   "outputs": [],
   "source": [
    "l_c_4_a,_=get_conv(l_c_4_3,1,512,256,2,'c_4_a', train_type)\n",
    "l_c_4_a=tf.layers.dropout(l_c_4_a,rate=keep_prob)\n",
    "\n",
    "l_c_3_a,_=get_conv(l_c_3_3,1,256,128,2,'c_3_a', train_type)\n",
    "l_c_3_a=tf.layers.dropout(l_c_3_a,rate=keep_prob)\n",
    "\n",
    "l_c_2_a,_=get_conv(l_c_2_2,1,128,128,2,'c_2_a', train_type)\n",
    "l_c_2_a=tf.layers.dropout(l_c_2_a,rate=keep_prob)\n",
    "\n",
    "l_c_1_a,_=get_conv(l_c_1_2,1,64,128,2,'c_1_a', train_type)\n",
    "l_c_1_a=tf.layers.dropout(l_c_1_a,rate=keep_prob)"
   ]
  },
  {
   "cell_type": "code",
   "execution_count": 21,
   "metadata": {},
   "outputs": [],
   "source": [
    "l_dep_5,_=get_conv(l_c_5_3,3,512,1024,3,'dep_5',train_type)\n",
    "\n",
    "l_dep_4=dep_deconv(l_dep_5, 3, math.ceil(h/8),l_c_4_a,256,1024,512,'dep_4', train_type)\n",
    "l_dep_4=tf.layers.dropout(l_dep_4,rate=keep_prob)\n",
    "\n",
    "l_dep_3=dep_deconv(l_dep_4, 3, math.ceil(h/4),l_c_3_a,128,512,256,'dep_3', train_type)\n",
    "l_dep_3=tf.layers.dropout(l_dep_3,rate=keep_prob)\n",
    "\n",
    "l_dep_2=dep_deconv(l_dep_3, 3, math.ceil(h/2),l_c_2_a,128,256,128,'dep_2', train_type)\n",
    "l_dep_2=tf.layers.dropout(l_dep_2,rate=keep_prob)\n",
    "\n",
    "\n",
    "l_dep_1=dep_deconv(l_dep_2, 3, h,l_c_1_a,128,128,64,'dep_1', train_type)\n",
    "l_dep_1=tf.layers.dropout(l_dep_1,rate=keep_prob)"
   ]
  },
  {
   "cell_type": "code",
   "execution_count": 22,
   "metadata": {},
   "outputs": [],
   "source": [
    "l_seg_5,_=get_conv(l_c_5_3,1,512,1024,2,'seg_5',train_type)\n",
    "\n",
    "l_seg_4=seg_deconv(l_seg_5, 3, math.ceil(h/8),l_c_4_a,256,1024,512,'seg_4', train_type)\n",
    "l_seg_4=tf.layers.dropout(l_seg_4,rate=keep_prob)\n",
    "\n",
    "l_seg_3=seg_deconv(l_seg_4, 3, math.ceil(h/4),l_c_3_a,128,512,256,'seg_3', train_type)\n",
    "l_seg_3=tf.layers.dropout(l_seg_3,rate=keep_prob)\n",
    "\n",
    "l_seg_2=seg_deconv(l_seg_3, 3, math.ceil(h/2),l_c_2_a,128,256,128,'seg_2', train_type)\n",
    "l_seg_2=tf.layers.dropout(l_seg_2,rate=keep_prob)\n",
    "\n",
    "\n",
    "l_seg_1=seg_deconv(l_seg_2, 3, h,l_c_1_a,128,128,128,'seg_1', train_type)\n",
    "l_seg_1=tf.layers.dropout(l_seg_1,rate=keep_prob)"
   ]
  },
  {
   "cell_type": "code",
   "execution_count": 23,
   "metadata": {},
   "outputs": [],
   "source": [
    "l_dns_1,_=get_conv(l_dep_1,3,64,64,5,'dns_1',train_type)\n",
    "l_snd_1,_=get_conv(l_seg_1,3,128,128,3,'snd_1',train_type)"
   ]
  },
  {
   "cell_type": "code",
   "execution_count": 24,
   "metadata": {},
   "outputs": [],
   "source": [
    "l_snd_a,_=get_conv(l_snd_1,1,128,128,2,'snd_a',train_type)"
   ]
  },
  {
   "cell_type": "code",
   "execution_count": 25,
   "metadata": {},
   "outputs": [],
   "source": [
    "w_dns,b_dns=make_wei(\"dns\",3,64,1)\n",
    "w_snd,b_snd=make_wei(\"snd\",1,128,c)"
   ]
  },
  {
   "cell_type": "code",
   "execution_count": 26,
   "metadata": {},
   "outputs": [],
   "source": [
    "l_dns=tf.nn.conv2d(l_dns_1,w_dns, strides=[1,1,1,1], padding= 'SAME')+b_dns\n",
    "l_snd=tf.nn.conv2d(l_snd_a,w_snd, strides=[1,1,1,1], padding= 'SAME')+b_snd"
   ]
  },
  {
   "cell_type": "code",
   "execution_count": 27,
   "metadata": {},
   "outputs": [],
   "source": [
    "l_dns_0,_=get_conv(l_dns,3,1,64,2,'dns_0',train_type)\n",
    "l_snd_0,_=get_conv(l_snd,3,c,128,2,'snd_0',train_type)"
   ]
  },
  {
   "cell_type": "code",
   "execution_count": 28,
   "metadata": {},
   "outputs": [],
   "source": [
    "l_dep_0=tf.concat([l_dns,l_snd_0],3)\n",
    "l_seg_0=tf.concat([l_snd,l_dns_0],3)\n",
    "l_dep_f,_=get_conv(l_dep_0,3,128+1,64,7,'dep_f',train_type)\n",
    "l_seg_f,_=get_conv(l_seg_0,3,64+c,128,5,'seg_f',train_type)"
   ]
  },
  {
   "cell_type": "code",
   "execution_count": 29,
   "metadata": {},
   "outputs": [],
   "source": [
    "l_seg_fc,_=get_conv(l_seg_f,1,128,128,2,'seg_fc',train_type)"
   ]
  },
  {
   "cell_type": "code",
   "execution_count": 30,
   "metadata": {},
   "outputs": [],
   "source": [
    "w_dep,b_dep=make_wei(\"dep\",3,64,1)\n",
    "w_seg,b_seg=make_wei(\"seg\",1,128,c)"
   ]
  },
  {
   "cell_type": "code",
   "execution_count": 31,
   "metadata": {},
   "outputs": [],
   "source": [
    "l_dep=tf.nn.conv2d(l_dep_f,w_dep, strides=[1,1,1,1], padding= 'SAME')+b_dep\n",
    "\n",
    "l_seg=tf.nn.conv2d(l_seg_fc,w_seg, strides=[1,1,1,1], padding= 'SAME')+b_seg"
   ]
  },
  {
   "cell_type": "code",
   "execution_count": 32,
   "metadata": {},
   "outputs": [],
   "source": [
    "flat_output=tf.reshape(l_seg,[-1,c])\n",
    "flat_output_snd=tf.reshape(l_snd,[-1,c])\n",
    "flat_s=tf.reshape(s,[-1,c])\n",
    "s_avg=tf.nn.avg_pool(s, ksize=[1,5,5,1], strides=[1,1,1,1], padding='SAME')\n",
    "flat_s_avg=tf.reshape(s_avg,[-1,c])"
   ]
  },
  {
   "cell_type": "code",
   "execution_count": 33,
   "metadata": {},
   "outputs": [],
   "source": [
    "# seg_cost_1=tf.nn.sigmoid_cross_entropy_with_logits(logits=l_seg,labels=s)\n",
    "# seg_cost_1=tf.reduce_sum(seg_cost_1,3)\n",
    "# seg_cost_1=tf.reshape(seg_cost_1,[-1,h*w])\n",
    "# seg_cost_1=tf.reduce_mean(seg_cost_1,1)\n",
    "# seg_cost_1=tf.reduce_mean(seg_cost_1)"
   ]
  },
  {
   "cell_type": "code",
   "execution_count": 34,
   "metadata": {},
   "outputs": [],
   "source": [
    "seg_cost_1=tf.nn.softmax_cross_entropy_with_logits(logits=l_seg,labels=s)\n",
    "seg_cost_1=tf.reshape(seg_cost_1,[-1,h*w])\n",
    "seg_cost_1=tf.reduce_mean(seg_cost_1,1)\n",
    "seg_cost_1=tf.reduce_mean(seg_cost_1)"
   ]
  },
  {
   "cell_type": "code",
   "execution_count": 35,
   "metadata": {},
   "outputs": [],
   "source": [
    "# seg_cost_2=tf.nn.sigmoid_cross_entropy_with_logits(logits=l_seg,labels=s_avg)\n",
    "# seg_cost_2=tf.reduce_sum(seg_cost_2,3)\n",
    "# seg_cost_2=tf.reshape(seg_cost_2,[-1,h*w])\n",
    "# seg_cost_2=tf.reduce_mean(seg_cost_2,1)\n",
    "# seg_cost_2=tf.reduce_mean(seg_cost_2)"
   ]
  },
  {
   "cell_type": "code",
   "execution_count": 36,
   "metadata": {},
   "outputs": [],
   "source": [
    "# seg_cost=tf.nn.sigmoid_cross_entropy_with_logits(logits=flat_output,labels=flat_s_avg)\n",
    "# seg_cost=tf.reshape(seg_cost,[-1,h*w])\n",
    "# seg_cost=tf.reduce_mean(tf.exp(seg_cost),1)\n",
    "# seg_cost=tf.reduce_mean(seg_cost)"
   ]
  },
  {
   "cell_type": "code",
   "execution_count": 37,
   "metadata": {},
   "outputs": [],
   "source": [
    "flat_d=tf.reshape(d,[-1,h*w])\n",
    "flat_l_dep=tf.reshape(l_dep,[-1,h*w])"
   ]
  },
  {
   "cell_type": "code",
   "execution_count": 38,
   "metadata": {},
   "outputs": [],
   "source": [
    "d_sub=tf.square(flat_d-flat_l_dep)\n",
    "dep_cost_1=tf.reduce_mean(d_sub,1)\n",
    "dep_cost_1=tf.reduce_mean(dep_cost_1)"
   ]
  },
  {
   "cell_type": "code",
   "execution_count": 39,
   "metadata": {},
   "outputs": [],
   "source": [
    "s_image_2=tf.argmax(l_seg,3)\n",
    "d_image_2=tf.reshape(l_dep,[-1,h,w])\n",
    "\n",
    "s_image_1=tf.argmax(l_snd,3)\n",
    "d_image_1=tf.reshape(l_dns,[-1,h,w])"
   ]
  },
  {
   "cell_type": "code",
   "execution_count": 40,
   "metadata": {},
   "outputs": [],
   "source": [
    "inter_1,label_1,union_1=acc(flat_output,flat_s)\n",
    "inter_2,label_2,union_2=acc(flat_output_snd,flat_s)"
   ]
  },
  {
   "cell_type": "code",
   "execution_count": 41,
   "metadata": {},
   "outputs": [],
   "source": [
    "def dep_deri(dep_img):\n",
    "    d_x_deri = tf.reshape(d_deri, [3, 3, 1, 1])\n",
    "    d_y_deri = tf.transpose(d_x_deri, [1, 0, 2, 3])\n",
    "    \n",
    "\n",
    "    d_x_deri=tf.nn.conv2d(dep_img, d_x_deri, strides=[1, 1, 1, 1], padding='VALID')\n",
    "    d_y_deri=tf.nn.conv2d(dep_img, d_y_deri, strides=[1, 1, 1, 1], padding='VALID')\n",
    "\n",
    "    \n",
    "    d_x_loss=tf.abs(d_x_deri/2.0)\n",
    "    d_y_loss=tf.abs(d_y_deri/2.0)\n",
    "    \n",
    "        \n",
    "    dep_x_cost=tf.reshape(d_x_loss,[-1,int(d_x_loss.shape[1])*int(d_x_loss.shape[2])])\n",
    "    dep_y_cost=tf.reshape(d_y_loss,[-1,int(d_y_loss.shape[1])*int(d_y_loss.shape[2])])\n",
    "    dep_deri_cost=tf.reduce_mean(tf.reduce_mean(dep_x_cost,1)+tf.reduce_mean(dep_y_cost,1))\n",
    "    \n",
    "    return dep_deri_cost"
   ]
  },
  {
   "cell_type": "code",
   "execution_count": 42,
   "metadata": {},
   "outputs": [],
   "source": [
    "dep_deri_cost=dep_deri(l_dep)\n",
    "dns_deri_cost=dep_deri(l_dns)"
   ]
  },
  {
   "cell_type": "code",
   "execution_count": 43,
   "metadata": {},
   "outputs": [],
   "source": [
    "dep_sub_1=tf.square((l_dns-d)/2.0)\n",
    "dep_sub_2=1-tf.exp(-dep_sub_1)\n",
    "\n",
    "s_dep=s*dep_sub_2\n",
    "\n",
    "seg_cost_3=tf.nn.sigmoid_cross_entropy_with_logits(logits=l_snd,labels=s_dep)\n",
    "seg_cost_3=tf.reshape(seg_cost_3,[-1,h*w,c])\n",
    "seg_cost_3=tf.reduce_sum(seg_cost_3,2)\n",
    "seg_cost_3=tf.reshape(seg_cost_3,[-1,h*w])\n",
    "seg_cost_3=tf.reduce_mean(seg_cost_3,1)\n",
    "seg_cost_3=tf.reduce_mean(seg_cost_3)"
   ]
  },
  {
   "cell_type": "code",
   "execution_count": 44,
   "metadata": {},
   "outputs": [],
   "source": [
    "s_soft=tf.nn.softmax(l_snd*0.01)*s\n",
    "seg_f_1_cost=tf.reduce_sum(s_soft,3)\n",
    "seg_f_2_cost=1.0-tf.reshape(seg_f_1_cost,[-1,h,w,1])\n",
    "\n",
    "dep_cost_2=seg_f_2_cost*dep_sub_1\n",
    "\n",
    "# dep_cost_2=tf.reduce_mean(dep_cost_2,1)\n",
    "# dep_cost_2=tf.reduce_mean(dep_cost_2)"
   ]
  },
  {
   "cell_type": "code",
   "execution_count": 45,
   "metadata": {},
   "outputs": [],
   "source": [
    "s_con=tf.reshape(seg_f_2_cost,[-1,h,w])\n",
    "d_con=tf.reshape(dep_sub_2,[-1,h,w])"
   ]
  },
  {
   "cell_type": "code",
   "execution_count": 46,
   "metadata": {},
   "outputs": [],
   "source": [
    "flat_l_dns=tf.reshape(l_dns,[-1,h*w])\n",
    "dns_cost=tf.reduce_mean(tf.square(flat_d-flat_l_dns),1)\n",
    "dns_cost=tf.reduce_mean(dns_cost)"
   ]
  },
  {
   "cell_type": "code",
   "execution_count": 47,
   "metadata": {},
   "outputs": [],
   "source": [
    "snd_cost=tf.nn.softmax_cross_entropy_with_logits(logits=l_snd,labels=s)\n",
    "snd_cost=tf.reshape(snd_cost,[-1,h*w])\n",
    "snd_cost=tf.reduce_mean(snd_cost,1)\n",
    "snd_cost=tf.reduce_mean(snd_cost)"
   ]
  },
  {
   "cell_type": "code",
   "execution_count": 48,
   "metadata": {},
   "outputs": [],
   "source": [
    "# dep_cost=(dep_cost_1*0.6)+(dep_cost_2*0.4)+(dep_deri_cost*0.4)+((dns_cost*0.6)+(dns_deri_cost*0.4))*0.8\n",
    "dep_cost=(dep_cost_1*0.6)+(dep_deri_cost*0.4)+((dns_cost*0.6)+(dns_deri_cost*0.4))*0.8"
   ]
  },
  {
   "cell_type": "code",
   "execution_count": 49,
   "metadata": {},
   "outputs": [],
   "source": [
    "# seg_cost=seg_cost_1+seg_cost_2+(seg_cost_3*0.6)\n",
    "seg_cost=(seg_cost_1)+(seg_cost_3*0.6)+(snd_cost*0.8)"
   ]
  },
  {
   "cell_type": "code",
   "execution_count": 50,
   "metadata": {},
   "outputs": [],
   "source": [
    "# dep_sub_1=tf.square(l_dep-d)\n",
    "# dep_sub_2=tf.exp(-dep_sub_1)\n",
    "# seg_soft=tf.nn.softmax(l_seg)\n",
    "# dep_sub_3=(dep_sub_2+seg_soft)/2.0\n",
    "# dep_sub_4=dep_sub_3*s\n",
    "\n",
    "# dep_seg_cost_1=tf.reduce_sum(dep_sub_4,3)\n",
    "# dep_seg_cost_1=tf.reshape(dep_seg_cost_1,[-1,h*w])\n",
    "# dep_seg_cost_1=tf.reduce_mean(dep_seg_cost_1,1)\n",
    "# dep_seg_cost=tf.reduce_mean(dep_seg_cost_1)"
   ]
  },
  {
   "cell_type": "code",
   "execution_count": 51,
   "metadata": {},
   "outputs": [],
   "source": [
    "# cost=seg_cost*0.9+dep_cost*0.8+dep_seg_cost*0.3\n",
    "cost=(seg_cost*0.8)+(dep_cost*0.5)\n",
    "starter_learning_rate = 0.0001\n",
    "learning_rate = tf.train.exponential_decay(starter_learning_rate, global_step,50, 0.5, staircase=True)\n",
    "optimizer=tf.train.AdamOptimizer(learning_rate=learning_rate).minimize(cost)"
   ]
  },
  {
   "cell_type": "code",
   "execution_count": 52,
   "metadata": {},
   "outputs": [],
   "source": [
    "# starter_learning_rate_s = 0.0001\n",
    "# learning_rate_s = tf.train.exponential_decay(starter_learning_rate_s, global_step,30, 0.1, staircase=True)\n",
    "# optimizer_s=tf.train.AdamOptimizer(learning_rate=learning_rate_s).minimize(seg_cost)"
   ]
  },
  {
   "cell_type": "code",
   "execution_count": 53,
   "metadata": {},
   "outputs": [],
   "source": [
    "# starter_learning_rate_d = 0.0001\n",
    "# learning_rate_d = tf.train.exponential_decay(starter_learning_rate_d, global_step,30, 0.1, staircase=True)\n",
    "# optimizer_d=tf.train.AdamOptimizer(learning_rate=learning_rate_d).minimize(dep_cost)"
   ]
  },
  {
   "cell_type": "code",
   "execution_count": null,
   "metadata": {},
   "outputs": [
    {
     "name": "stdout",
     "output_type": "stream",
     "text": [
      "Learning start\n",
      "epoch :  0\n",
      "seg_cost :  3.43803 snd_cost :  127.08371 dep_cost :  1556.84317 dns_cost :  47803.02912\n",
      "\n",
      "\n",
      "mean_iou_acc :  0.069916687\n",
      "mean_mean_acc :  0.123250494\n",
      "mean_iou_acc :  0.073039785\n",
      "mean_mean_acc :  0.125440382\n",
      "945.5108668804169\n",
      "\n",
      "\n",
      "\\\\\\\\\\\\\\\\\\\\\\\\\\\\\\\\\\\\\\ test_network \\\\\\\\\\\\\\\\\\\\\\\\\\\\\\\\\\\\\\\n",
      "seg_cost :  2.17889 dep_cost :  1802.84887 snd_cost :  28.91513 dns_cost :  4767.80160\n",
      "mean_iou_acc :  0.018508502\n",
      "mean_mean_acc :  0.071561898\n",
      "mean_iou_acc :  0.036734822\n",
      "mean_mean_acc :  0.082749959\n",
      "\n",
      "\n",
      "train_iou_1\n",
      "[  2.38500063e-01   1.68551082e-01   1.91215035e-04   3.33425353e-02\n",
      "   4.64175640e-02   2.20209601e-01   1.99756102e-03   1.11565775e-04\n",
      "   1.54047335e-03   1.06277213e-03   3.24091846e-02   9.43637859e-05\n",
      "   2.20673388e-01   1.37322512e-02]\n",
      "train_mean_1\n",
      "[  5.61817587e-01   2.43446843e-01   2.67558528e-04   4.67464103e-02\n",
      "   6.02480228e-02   3.42217413e-01   2.07765631e-03   1.11950448e-04\n",
      "   2.42883425e-03   1.11203311e-03   4.30523934e-02   1.80766450e-04\n",
      "   4.04802409e-01   1.69970432e-02]\n",
      "test_iou_1\n",
      "[ 0.25397361  0.          0.          0.          0.          0.00039389\n",
      "  0.          0.          0.          0.          0.00041251  0.\n",
      "  0.00433902  0.        ]\n",
      "test_mean_1\n",
      "[  9.96695315e-01   0.00000000e+00   0.00000000e+00   0.00000000e+00\n",
      "   0.00000000e+00   3.93975600e-04   0.00000000e+00   0.00000000e+00\n",
      "   0.00000000e+00   0.00000000e+00   4.14839841e-04   0.00000000e+00\n",
      "   4.36244123e-03   0.00000000e+00]\n",
      "\n",
      "\n",
      "train_iou_snd\n",
      "[ 0.18244092  0.14888976  0.00091146  0.02555337  0.08742003  0.21259319\n",
      "  0.01644055  0.02104502  0.00078052  0.03219565  0.06947528  0.0004981\n",
      "  0.20290421  0.02140892]\n",
      "train_mean_snd\n",
      "[ 0.32844817  0.22692524  0.00149068  0.04019845  0.15452642  0.32881692\n",
      "  0.0230859   0.0355253   0.0011759   0.05570434  0.13670643  0.00145474\n",
      "  0.37033215  0.05177469]\n",
      "test_iou_snd\n",
      "[  1.98990047e-01   6.63378588e-03   1.60572556e-04   3.62509194e-03\n",
      "   1.52063889e-02   2.70321628e-02   5.48783078e-02   2.16537557e-02\n",
      "   4.53792571e-05   8.18654455e-03   1.15272751e-02   1.61214916e-05\n",
      "   1.51874287e-01   1.44577945e-02]\n",
      "test_mean_snd\n",
      "[  4.07409978e-01   7.77238047e-03   1.69647618e-04   4.61816478e-03\n",
      "   1.66169766e-02   2.86582462e-02   3.18118528e-01   3.77585606e-02\n",
      "   4.55686743e-05   1.17725236e-02   1.23472658e-02   1.61357989e-05\n",
      "   2.82458235e-01   3.07372202e-02]\n",
      "\n",
      "\n",
      "epoch :  1\n",
      "seg_cost :  2.01798 snd_cost :  12.15431 dep_cost :  1270.70011 dns_cost :  2225.39241\n",
      "\n",
      "\n",
      "mean_iou_acc :  0.064871044\n",
      "mean_mean_acc :  0.119523289\n",
      "mean_iou_acc :  0.062762796\n",
      "mean_mean_acc :  0.110485226\n",
      "924.8248355388641\n",
      "\n",
      "\n",
      "epoch :  2\n",
      "seg_cost :  1.98931 snd_cost :  5.47110 dep_cost :  1136.49162 dns_cost :  1414.77698\n",
      "\n",
      "\n",
      "mean_iou_acc :  0.068209154\n",
      "mean_mean_acc :  0.125595574\n",
      "mean_iou_acc :  0.060304088\n",
      "mean_mean_acc :  0.107691625\n",
      "922.3158156871796\n",
      "\n",
      "\n",
      "\\\\\\\\\\\\\\\\\\\\\\\\\\\\\\\\\\\\\\ test_network \\\\\\\\\\\\\\\\\\\\\\\\\\\\\\\\\\\\\\\n",
      "seg_cost :  2.20933 dep_cost :  1459.95814 snd_cost :  7.51641 dns_cost :  1330.42397\n",
      "mean_iou_acc :  0.020462646\n",
      "mean_mean_acc :  0.073072038\n",
      "mean_iou_acc :  0.033719127\n",
      "mean_mean_acc :  0.080173366\n",
      "\n",
      "\n",
      "epoch :  3\n",
      "seg_cost :  1.97478 snd_cost :  3.81200 dep_cost :  971.23954 dns_cost :  1090.85007\n",
      "\n",
      "\n",
      "mean_iou_acc :  0.067840437\n",
      "mean_mean_acc :  0.125209285\n",
      "mean_iou_acc :  0.059612582\n",
      "mean_mean_acc :  0.106607564\n",
      "918.3424019813538\n",
      "\n",
      "\n",
      "epoch :  4\n",
      "seg_cost :  1.94272 snd_cost :  3.00974 dep_cost :  901.04321 dns_cost :  933.33914\n",
      "\n",
      "\n",
      "mean_iou_acc :  0.069173522\n",
      "mean_mean_acc :  0.127442740\n",
      "mean_iou_acc :  0.059763962\n",
      "mean_mean_acc :  0.107370399\n",
      "915.4808790683746\n",
      "\n",
      "\n",
      "\\\\\\\\\\\\\\\\\\\\\\\\\\\\\\\\\\\\\\ test_network \\\\\\\\\\\\\\\\\\\\\\\\\\\\\\\\\\\\\\\n",
      "seg_cost :  2.19126 dep_cost :  1928.46471 snd_cost :  3.14845 dns_cost :  1417.83934\n",
      "mean_iou_acc :  0.021106435\n",
      "mean_mean_acc :  0.073513385\n",
      "mean_iou_acc :  0.040763421\n",
      "mean_mean_acc :  0.084920581\n",
      "\n",
      "\n",
      "epoch :  5\n",
      "seg_cost :  1.93220 snd_cost :  3.19308 dep_cost :  881.62164 dns_cost :  883.31739\n",
      "\n",
      "\n",
      "mean_iou_acc :  0.071600253\n",
      "mean_mean_acc :  0.131171334\n",
      "mean_iou_acc :  0.052971790\n",
      "mean_mean_acc :  0.097364610\n",
      "912.2454121112823\n",
      "\n",
      "\n",
      "epoch :  6\n",
      "seg_cost :  1.94855 snd_cost :  2.53135 dep_cost :  870.04720 dns_cost :  918.54203\n",
      "\n",
      "\n",
      "mean_iou_acc :  0.065252578\n",
      "mean_mean_acc :  0.123187142\n",
      "mean_iou_acc :  0.014717532\n",
      "mean_mean_acc :  0.071510729\n",
      "875.7675375938416\n",
      "\n",
      "\n",
      "\\\\\\\\\\\\\\\\\\\\\\\\\\\\\\\\\\\\\\ test_network \\\\\\\\\\\\\\\\\\\\\\\\\\\\\\\\\\\\\\\n",
      "seg_cost :  2.22343 dep_cost :  957.81519 snd_cost :  2.51176 dns_cost :  1241.94590\n",
      "mean_iou_acc :  0.018173550\n",
      "mean_mean_acc :  0.071426376\n",
      "mean_iou_acc :  0.013725620\n",
      "mean_mean_acc :  0.071425888\n",
      "\n",
      "\n",
      "train_iou_1\n",
      "[  2.38933830e-01   1.87565995e-01   0.00000000e+00   1.21093056e-03\n",
      "   0.00000000e+00   2.68857402e-01   5.11636230e-05   0.00000000e+00\n",
      "   0.00000000e+00   0.00000000e+00   0.00000000e+00   0.00000000e+00\n",
      "   2.16916087e-01   6.83669294e-07]\n",
      "train_mean_1\n",
      "[  5.22203619e-01   2.55448757e-01   0.00000000e+00   1.22149434e-03\n",
      "   0.00000000e+00   5.70865919e-01   5.12353595e-05   0.00000000e+00\n",
      "   0.00000000e+00   0.00000000e+00   0.00000000e+00   0.00000000e+00\n",
      "   3.74828281e-01   6.83738009e-07]\n",
      "test_iou_1\n",
      "[  2.54373956e-01   0.00000000e+00   0.00000000e+00   0.00000000e+00\n",
      "   0.00000000e+00   0.00000000e+00   0.00000000e+00   0.00000000e+00\n",
      "   0.00000000e+00   0.00000000e+00   0.00000000e+00   0.00000000e+00\n",
      "   5.57489586e-05   0.00000000e+00]\n",
      "test_mean_1\n",
      "[  9.99913509e-01   0.00000000e+00   0.00000000e+00   0.00000000e+00\n",
      "   0.00000000e+00   0.00000000e+00   0.00000000e+00   0.00000000e+00\n",
      "   0.00000000e+00   0.00000000e+00   0.00000000e+00   0.00000000e+00\n",
      "   5.57573684e-05   0.00000000e+00]\n",
      "\n",
      "\n",
      "train_iou_snd\n",
      "[  2.64903156e-03   4.61892914e-05   6.28685670e-06   2.42319649e-04\n",
      "   1.98305895e-04   2.00157164e-01   1.42431918e-05   3.30074179e-04\n",
      "   4.48790733e-05   1.00061208e-04   1.80431491e-04   4.02729855e-04\n",
      "   1.47156850e-03   2.02157184e-04]\n",
      "train_mean_snd\n",
      "[  2.66627140e-03   4.63358753e-05   6.37044115e-06   2.43506976e-04\n",
      "   1.98892848e-04   9.94993372e-01   1.42459292e-05   3.36159748e-04\n",
      "   4.53140718e-05   1.00775011e-04   1.82444620e-04   6.36986537e-04\n",
      "   1.47680550e-03   2.02728320e-04]\n",
      "test_iou_snd\n",
      "[  1.20453261e-04   3.81844078e-06   0.00000000e+00   6.69223099e-06\n",
      "   4.83954255e-07   1.91908113e-01   0.00000000e+00   4.85918618e-05\n",
      "   4.55582941e-06   0.00000000e+00   0.00000000e+00   0.00000000e+00\n",
      "   2.95951931e-05   3.63775260e-05]\n",
      "test_mean_snd\n",
      "[  1.20492292e-04   3.82185566e-06   0.00000000e+00   6.69299244e-06\n",
      "   4.83994308e-07   9.99711735e-01   0.00000000e+00   4.86676948e-05\n",
      "   4.55686743e-06   0.00000000e+00   0.00000000e+00   0.00000000e+00\n",
      "   2.95972332e-05   3.63892506e-05]\n",
      "\n",
      "\n"
     ]
    }
   ],
   "source": [
    "sess=tf.Session()\n",
    "sess.run(tf.global_variables_initializer())\n",
    "saver=tf.train.Saver()\n",
    "# saver.restore(sess,\"seg_out\"+version+\"/seg_model.ckpt\")\n",
    "print(\"Learning start\")\n",
    "\n",
    "for epoch in range(training_epochs):\n",
    "    a=0\n",
    "    batch_size=2\n",
    "    total_batch = math.ceil(len(train_image)/batch_size)\n",
    "    start=time.time()\n",
    "    avg_d_cost=0\n",
    "    avg_s_cost=0\n",
    "    avg_dns_cost=0\n",
    "    avg_snd_cost=0\n",
    "    \n",
    "    avg_inter_1=np.zeros((c))\n",
    "    avg_gt_1=np.zeros((c))\n",
    "    avg_union_1=np.zeros((c))\n",
    "    avg_inter_2=np.zeros((c))\n",
    "    avg_gt_2=np.zeros((c))\n",
    "    avg_union_2=np.zeros((c))\n",
    "    \n",
    "   \n",
    "    \n",
    "\n",
    "    for i in range(total_batch):\n",
    "        if a+batch_size>len(train_image):\n",
    "            batch_xs=train_image[a:]\n",
    "            batch_ys=train_label[a:]\n",
    "            batch_ds=train_depth[a:]\n",
    "        else:\n",
    "            batch_xs=train_image[a:a+batch_size]\n",
    "            batch_ys=train_label[a:a+batch_size]\n",
    "            batch_ds=train_depth[a:a+batch_size]\n",
    "        \n",
    "        feed_dict={x:batch_xs, s:batch_ys, d:batch_ds, keep_prob:0.6, train_type:True, global_step:epoch}\n",
    "        dep_con,seg_con,rate,d_img_1,d_img_2,d_c,dns_c,s_img_1,s_img_2,s_c,snd_c,_=sess.run([d_con,s_con,learning_rate,d_image_1,d_image_2,dep_cost_1,dns_cost,s_image_1,s_image_2,seg_cost_1,snd_cost,optimizer], feed_dict=feed_dict)\n",
    "        in_1,gt_1,un_1,in_2,gt_2,un_2=sess.run([inter_1,label_1,union_1,inter_2,label_2,union_2], feed_dict=feed_dict)\n",
    "#         rate_d,d_img,d_c,_,rate_s,in_1,gt_1,un_1,s_img,s_c,_=sess.run([learning_rate_d,d_image,dep_cost,optimizer_d,learning_rate_s,inter,label,union,s_image,seg_cost,optimizer_s], feed_dict=feed_dict)\n",
    "#         rate_s,in_1,gt_1,un_1,s_img,s_c,_=sess.run([learning_rate_s,inter,label,union,s_image,seg_cost,optimizer_s], feed_dict=feed_dict)\n",
    "        for j in range(len(batch_xs)):\n",
    "            plt.imsave('seg_out'+version+'/output_img-'+str(a+j+1).zfill(6)+'_se_1.jpg',s_img_1[j])\n",
    "            plt.imsave('seg_out'+version+'/output_img-'+str(a+j+1).zfill(6)+'_de_1.jpg',d_img_1[j])\n",
    "            plt.imsave('seg_out'+version+'/output_img-'+str(a+j+1).zfill(6)+'_se_2.jpg',s_img_2[j])\n",
    "            plt.imsave('seg_out'+version+'/output_img-'+str(a+j+1).zfill(6)+'_de_2.jpg',d_img_2[j])\n",
    "            plt.imsave('seg_out'+version+'/conf_map/'+str(a+j+1).zfill(6)+'_dep.png',dep_con[j])\n",
    "            plt.imsave('seg_out'+version+'/conf_map/'+str(a+j+1).zfill(6)+'_seg.png',seg_con[j])\n",
    "            \n",
    "        a=a+batch_size\n",
    "        avg_s_cost+=s_c\n",
    "        avg_d_cost+=d_c\n",
    "        avg_snd_cost+=snd_c\n",
    "        avg_dns_cost+=dns_c\n",
    "        \n",
    "\n",
    "        avg_inter_1+=in_1\n",
    "        avg_gt_1+=gt_1\n",
    "        avg_union_1+=un_1\n",
    "        \n",
    "        avg_inter_2+=in_2\n",
    "        avg_gt_2+=gt_2\n",
    "        avg_union_2+=un_2\n",
    "\n",
    "    print(\"epoch : \", epoch)\n",
    "    print(\"seg_cost : \", '{:.5f}'.format(avg_s_cost/total_batch),\"snd_cost : \", '{:.5f}'.format(avg_snd_cost/total_batch),\"dep_cost : \",'{:.5f}'.format(avg_d_cost/total_batch),\"dns_cost : \", '{:.5f}'.format(avg_dns_cost/total_batch))\n",
    "    print(\"\\n\")\n",
    "    s_iou_1,s_mean_1,m_iou_1,m_mean_1=iou_mean(avg_inter_1,avg_union_1,avg_gt_1,c)\n",
    "    s_iou_2,s_mean_2,m_iou_2,m_mean_2=iou_mean(avg_inter_2,avg_union_2,avg_gt_2,c)\n",
    "    \n",
    "\n",
    "        \n",
    "    saver.save(sess, \"seg_out\"+version+\"/seg_model.ckpt\")\n",
    "    end=time.time()\n",
    "    print(end-start)\n",
    "    print(\"\\n\")\n",
    "    \n",
    "    if epoch%2==0:\n",
    "        test_a=0\n",
    "        test_batch_size=2\n",
    "        test_total_batch = int(math.ceil(len(test_image)/test_batch_size))\n",
    "        test_avg_snd_cost=0\n",
    "        test_avg_dns_cost=0\n",
    "        test_avg_s_cost=0\n",
    "        test_avg_d_cost=0\n",
    "        \n",
    "        test_avg_inter_1=np.zeros((c))\n",
    "        test_avg_gt_1=np.zeros((c))\n",
    "        test_avg_union_1=np.zeros((c))\n",
    "        test_avg_inter_2=np.zeros((c))\n",
    "        test_avg_gt_2=np.zeros((c))\n",
    "        test_avg_union_2=np.zeros((c))\n",
    "\n",
    "\n",
    "        for i in range(test_total_batch):\n",
    "            if test_a+batch_size>len(test_image):\n",
    "                test_batch_xs=test_image[test_a:]\n",
    "                test_batch_ys=test_label[test_a:]\n",
    "                test_batch_ds=test_depth[test_a:]\n",
    "            else:\n",
    "                test_batch_xs=test_image[test_a:test_a+test_batch_size]\n",
    "                test_batch_ys=test_label[test_a:test_a+test_batch_size]\n",
    "                test_batch_ds=test_depth[test_a:test_a+test_batch_size]\n",
    "                \n",
    "                \n",
    "            test_feed_dict={x:test_batch_xs, s:test_batch_ys, d:test_batch_ds, keep_prob:1.0,train_type:False,global_step:epoch}\n",
    "            t_dep_con,t_seg_con,t_s_img_1,t_s_img_2,t_d_img_1,t_d_img_2,t_s_c,t_d_c,t_snd_c,t_dns_c=sess.run([d_con,s_con,s_image_1,s_image_2,d_image_1,d_image_2, seg_cost_1,dep_cost_1,snd_cost,dns_cost], feed_dict=test_feed_dict)\n",
    "            t_in_1,t_gt_1,t_un_1,t_in_2,t_gt_2,t_un_2=sess.run([inter_1,label_1,union_1,inter_2,label_2,union_2], feed_dict=test_feed_dict)\n",
    "            for k in range(len(test_batch_xs)):\n",
    "                plt.imsave('seg_out'+version+'/test_image/test_img-'+str(test_a+k+1).zfill(6)+'_se_1.png',t_s_img_1[k])\n",
    "                plt.imsave('seg_out'+version+'/test_image/test_img-'+str(test_a+k+1).zfill(6)+'_de_1.png',t_d_img_1[k])\n",
    "                plt.imsave('seg_out'+version+'/test_image/test_img-'+str(test_a+k+1).zfill(6)+'_se_2.png',t_s_img_2[k])\n",
    "                plt.imsave('seg_out'+version+'/test_image/test_img-'+str(test_a+k+1).zfill(6)+'_de_2.png',t_d_img_2[k])\n",
    "                plt.imsave('seg_out'+version+'/test_conf_map/'+str(test_a+k+1).zfill(6)+'_dep.png',t_dep_con[k])\n",
    "                plt.imsave('seg_out'+version+'/test_conf_map/'+str(test_a+k+1).zfill(6)+'_seg.png',t_seg_con[k])\n",
    "                \n",
    "            test_a=test_a+test_batch_size\n",
    "\n",
    "            test_avg_s_cost+=t_s_c\n",
    "            test_avg_d_cost+=t_d_c\n",
    "            test_avg_snd_cost+=t_snd_c\n",
    "            test_avg_dns_cost+=t_dns_c\n",
    "            \n",
    "            test_avg_inter_1+=t_in_1\n",
    "            test_avg_gt_1+=t_gt_1\n",
    "            test_avg_union_1+=t_un_1\n",
    "            \n",
    "            test_avg_inter_2+=t_in_2\n",
    "            test_avg_gt_2+=t_gt_2\n",
    "            test_avg_union_2+=t_un_2\n",
    "            \n",
    "        print(\"\\\\\\\\\\\\\\\\\\\\\\\\\\\\\\\\\\\\\\\\\\\\\\\\\\\\\\\\\\\\\\\\\\\\\\\\\\\\ test_network \\\\\\\\\\\\\\\\\\\\\\\\\\\\\\\\\\\\\\\\\\\\\\\\\\\\\\\\\\\\\\\\\\\\\\\\\\\\\")\n",
    "        print(\"seg_cost : \",'{:.5f}'.format(test_avg_s_cost/test_total_batch), \"dep_cost : \",'{:.5f}'.format(test_avg_d_cost/test_total_batch),\"snd_cost : \",'{:.5f}'.format(test_avg_snd_cost/test_total_batch),\"dns_cost : \",'{:.5f}'.format(test_avg_dns_cost/test_total_batch))\n",
    "        test_s_iou_1,test_s_mean_1,test_m_iou_1,test_m_mean_1=iou_mean(test_avg_inter_1,test_avg_union_1,test_avg_gt_1,c)\n",
    "        test_s_iou_2,test_s_mean_2,test_m_iou_2,test_m_mean_2=iou_mean(test_avg_inter_2,test_avg_union_2,test_avg_gt_2,c)\n",
    "        print(\"\\n\")\n",
    "        \n",
    "        if epoch%6==0:\n",
    "            print(\"train_iou_1\")\n",
    "            print(s_iou_1)\n",
    "            print(\"train_mean_1\")\n",
    "            print(s_mean_1)\n",
    "            print(\"test_iou_1\")\n",
    "            print(test_s_iou_1)\n",
    "            print(\"test_mean_1\")\n",
    "            print(test_s_mean_1)\n",
    "            print(\"\\n\")\n",
    "            \n",
    "            print(\"train_iou_snd\")\n",
    "            print(s_iou_2)\n",
    "            print(\"train_mean_snd\")\n",
    "            print(s_mean_2)\n",
    "            print(\"test_iou_snd\")\n",
    "            print(test_s_iou_2)\n",
    "            print(\"test_mean_snd\")\n",
    "            print(test_s_mean_2)\n",
    "            print(\"\\n\")\n",
    "    if epoch%8==0:\n",
    "        feed_dict={x:batch_xs, s:batch_ys, d:batch_ds, keep_prob:1.0, train_type:True, global_step:epoch}\n",
    "        e_i_1,e_i_2,e_i_3,e_i_4,e_i_5=sess.run([l_c_1_2,l_c_2_2,l_c_3_3,l_c_4_3,l_c_5_3], feed_dict=feed_dict)\n",
    "        for q in range(64):\n",
    "            plt.imsave('seg_out'+version+'/edge_map/edge_map_1_'+str(q).zfill(2)+'.png',e_i_1[0,:,:,q])\n",
    "            plt.imsave('seg_out'+version+'/edge_map/edge_map_2_'+str(q).zfill(2)+'.png',e_i_2[0,:,:,q])\n",
    "            plt.imsave('seg_out'+version+'/edge_map/edge_map_3_'+str(q).zfill(2)+'.png',e_i_3[0,:,:,q])\n",
    "            plt.imsave('seg_out'+version+'/edge_map/edge_map_4_'+str(q).zfill(2)+'.png',e_i_4[0,:,:,q])\n",
    "            plt.imsave('seg_out'+version+'/edge_map/edge_map_5_'+str(q).zfill(2)+'.png',e_i_5[0,:,:,q])\n",
    "       "
   ]
  },
  {
   "cell_type": "code",
   "execution_count": null,
   "metadata": {},
   "outputs": [],
   "source": []
  }
 ],
 "metadata": {
  "anaconda-cloud": {},
  "kernelspec": {
   "display_name": "Python 3",
   "language": "python",
   "name": "python3"
  },
  "language_info": {
   "codemirror_mode": {
    "name": "ipython",
    "version": 3
   },
   "file_extension": ".py",
   "mimetype": "text/x-python",
   "name": "python",
   "nbconvert_exporter": "python",
   "pygments_lexer": "ipython3",
   "version": "3.5.4"
  }
 },
 "nbformat": 4,
 "nbformat_minor": 2
}
